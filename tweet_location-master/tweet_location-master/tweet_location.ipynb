{
 "cells": [
  {
   "cell_type": "markdown",
   "metadata": {},
   "source": [
    "# <b>Tweet Location</b>\n",
    "# Twitter Classification Cumulative Project Part-2"
   ]
  },
  {
   "cell_type": "markdown",
   "metadata": {},
   "source": [
    "My Codecademy Challenging Part-2 Project From The Data Scientist Path Foundations of Machine Learning: Supervised Learning Course, Advance Classification Models Section."
   ]
  },
  {
   "cell_type": "markdown",
   "metadata": {},
   "source": [
    "## <b>Overview<b>"
   ]
  },
  {
   "cell_type": "markdown",
   "metadata": {},
   "source": [
    "In this project, Twitter Classification Cumulative Project, I use real tweets to find patterns in the way people use social media. There are two parts to this project:\n",
    "\n",
    "- Part-1: Viral Tweets, Predict Viral Tweets, using a K-Nearest Neighbors classifier model.\n",
    "- Part-2: Classifying Tweets or Tweets Location, (This Section)."
   ]
  },
  {
   "cell_type": "markdown",
   "metadata": {},
   "source": [
    "### + Tweets Location  Project Goal"
   ]
  },
  {
   "cell_type": "markdown",
   "metadata": {},
   "source": [
    "Using a Naive Bayes Classifier Model, classify any tweet (or sentence) and predict whether that sentence came from New York, London, or Paris."
   ]
  },
  {
   "cell_type": "markdown",
   "metadata": {},
   "source": [
    "### + Project Requirements"
   ]
  },
  {
   "cell_type": "markdown",
   "metadata": {},
   "source": [
    "Be familiar with:\n",
    "\n",
    "- Python3\n",
    "- Machine Learning: Supervised Learning\n",
    "\n",
    "- The Python Libraries:\n",
    "    - Pandas\n",
    "    - NumPy\n",
    "    - Sklearn"
   ]
  },
  {
   "cell_type": "markdown",
   "metadata": {},
   "source": [
    "### + Links"
   ]
  },
  {
   "cell_type": "markdown",
   "metadata": {},
   "source": [
    "[Project Blog](https://www.alex-ricciardi.com/post/tweet-location)\n",
    "\n",
    "[Project GitHub](https://github.com/ARiccGitHub/tweet_location)"
   ]
  },
  {
   "cell_type": "markdown",
   "metadata": {},
   "source": [
    "## <b>Libraries</b>"
   ]
  },
  {
   "cell_type": "code",
   "execution_count": 1,
   "metadata": {},
   "outputs": [],
   "source": [
    "# Data manipulation tool\n",
    "import pandas as pd\n",
    "# Scientific computing, array\n",
    "import numpy as np\n",
    "# Data splitter\n",
    "from sklearn.model_selection import train_test_split\n",
    "# Convert a collection of text documents to a matrix of token counts\n",
    "from sklearn.feature_extraction.text import CountVectorizer\n",
    "# Naive Bayes Classifier\n",
    "from sklearn.naive_bayes import MultinomialNB\n",
    "# Model evaluation\n",
    "from sklearn.metrics import accuracy_score, recall_score, precision_score, confusion_matrix"
   ]
  },
  {
   "cell_type": "markdown",
   "metadata": {},
   "source": [
    "## <b>Investigate The Data<b>"
   ]
  },
  {
   "cell_type": "markdown",
   "metadata": {},
   "source": [
    "The provided data:\n",
    " * `new_york.json`\n",
    " * `london.json`\n",
    " * `paris.json`"
   ]
  },
  {
   "cell_type": "markdown",
   "metadata": {},
   "source": [
    "### + Importing the data "
   ]
  },
  {
   "cell_type": "code",
   "execution_count": 2,
   "metadata": {},
   "outputs": [],
   "source": [
    "new_york_tweets = pd.read_json(\"data_json/new_york.json\", lines=True)\n",
    "london_tweets = pd.read_json(\"data_json/london.json\", lines=True)\n",
    "paris_tweets = pd.read_json(\"data_json/paris.json\", lines=True)"
   ]
  },
  {
   "cell_type": "markdown",
   "metadata": {},
   "source": [
    "### + Exploring  the provided data"
   ]
  },
  {
   "cell_type": "markdown",
   "metadata": {},
   "source": [
    "* The columns, or features, of a tweet.\n",
    "* The text of the 12th tweet in the New York dataset.\n",
    "* The number of tweets."
   ]
  },
  {
   "cell_type": "markdown",
   "metadata": {},
   "source": [
    "#### - The columns, or features, of a tweet:"
   ]
  },
  {
   "cell_type": "code",
   "execution_count": 3,
   "metadata": {
    "scrolled": false
   },
   "outputs": [
    {
     "data": {
      "text/html": [
       "<div>\n",
       "<style scoped>\n",
       "    .dataframe tbody tr th:only-of-type {\n",
       "        vertical-align: middle;\n",
       "    }\n",
       "\n",
       "    .dataframe tbody tr th {\n",
       "        vertical-align: top;\n",
       "    }\n",
       "\n",
       "    .dataframe thead th {\n",
       "        text-align: right;\n",
       "    }\n",
       "</style>\n",
       "<table border=\"1\" class=\"dataframe\">\n",
       "  <thead>\n",
       "    <tr style=\"text-align: right;\">\n",
       "      <th></th>\n",
       "      <th>dtype</th>\n",
       "    </tr>\n",
       "  </thead>\n",
       "  <tbody>\n",
       "    <tr>\n",
       "      <th>created_at</th>\n",
       "      <td>datetime64[ns, UTC]</td>\n",
       "    </tr>\n",
       "    <tr>\n",
       "      <th>id</th>\n",
       "      <td>int64</td>\n",
       "    </tr>\n",
       "    <tr>\n",
       "      <th>id_str</th>\n",
       "      <td>int64</td>\n",
       "    </tr>\n",
       "    <tr>\n",
       "      <th>text</th>\n",
       "      <td>object</td>\n",
       "    </tr>\n",
       "    <tr>\n",
       "      <th>display_text_range</th>\n",
       "      <td>object</td>\n",
       "    </tr>\n",
       "    <tr>\n",
       "      <th>source</th>\n",
       "      <td>object</td>\n",
       "    </tr>\n",
       "    <tr>\n",
       "      <th>truncated</th>\n",
       "      <td>bool</td>\n",
       "    </tr>\n",
       "    <tr>\n",
       "      <th>in_reply_to_status_id</th>\n",
       "      <td>float64</td>\n",
       "    </tr>\n",
       "    <tr>\n",
       "      <th>in_reply_to_status_id_str</th>\n",
       "      <td>float64</td>\n",
       "    </tr>\n",
       "    <tr>\n",
       "      <th>in_reply_to_user_id</th>\n",
       "      <td>float64</td>\n",
       "    </tr>\n",
       "    <tr>\n",
       "      <th>in_reply_to_user_id_str</th>\n",
       "      <td>float64</td>\n",
       "    </tr>\n",
       "    <tr>\n",
       "      <th>in_reply_to_screen_name</th>\n",
       "      <td>object</td>\n",
       "    </tr>\n",
       "    <tr>\n",
       "      <th>user</th>\n",
       "      <td>object</td>\n",
       "    </tr>\n",
       "    <tr>\n",
       "      <th>geo</th>\n",
       "      <td>object</td>\n",
       "    </tr>\n",
       "    <tr>\n",
       "      <th>coordinates</th>\n",
       "      <td>object</td>\n",
       "    </tr>\n",
       "    <tr>\n",
       "      <th>place</th>\n",
       "      <td>object</td>\n",
       "    </tr>\n",
       "    <tr>\n",
       "      <th>contributors</th>\n",
       "      <td>float64</td>\n",
       "    </tr>\n",
       "    <tr>\n",
       "      <th>is_quote_status</th>\n",
       "      <td>bool</td>\n",
       "    </tr>\n",
       "    <tr>\n",
       "      <th>quote_count</th>\n",
       "      <td>int64</td>\n",
       "    </tr>\n",
       "    <tr>\n",
       "      <th>reply_count</th>\n",
       "      <td>int64</td>\n",
       "    </tr>\n",
       "    <tr>\n",
       "      <th>retweet_count</th>\n",
       "      <td>int64</td>\n",
       "    </tr>\n",
       "    <tr>\n",
       "      <th>favorite_count</th>\n",
       "      <td>int64</td>\n",
       "    </tr>\n",
       "    <tr>\n",
       "      <th>entities</th>\n",
       "      <td>object</td>\n",
       "    </tr>\n",
       "    <tr>\n",
       "      <th>favorited</th>\n",
       "      <td>bool</td>\n",
       "    </tr>\n",
       "    <tr>\n",
       "      <th>retweeted</th>\n",
       "      <td>bool</td>\n",
       "    </tr>\n",
       "    <tr>\n",
       "      <th>filter_level</th>\n",
       "      <td>object</td>\n",
       "    </tr>\n",
       "    <tr>\n",
       "      <th>lang</th>\n",
       "      <td>object</td>\n",
       "    </tr>\n",
       "    <tr>\n",
       "      <th>timestamp_ms</th>\n",
       "      <td>datetime64[ns]</td>\n",
       "    </tr>\n",
       "    <tr>\n",
       "      <th>extended_tweet</th>\n",
       "      <td>object</td>\n",
       "    </tr>\n",
       "    <tr>\n",
       "      <th>possibly_sensitive</th>\n",
       "      <td>float64</td>\n",
       "    </tr>\n",
       "    <tr>\n",
       "      <th>quoted_status_id</th>\n",
       "      <td>float64</td>\n",
       "    </tr>\n",
       "    <tr>\n",
       "      <th>quoted_status_id_str</th>\n",
       "      <td>float64</td>\n",
       "    </tr>\n",
       "    <tr>\n",
       "      <th>quoted_status</th>\n",
       "      <td>object</td>\n",
       "    </tr>\n",
       "    <tr>\n",
       "      <th>quoted_status_permalink</th>\n",
       "      <td>object</td>\n",
       "    </tr>\n",
       "    <tr>\n",
       "      <th>extended_entities</th>\n",
       "      <td>object</td>\n",
       "    </tr>\n",
       "    <tr>\n",
       "      <th>withheld_in_countries</th>\n",
       "      <td>object</td>\n",
       "    </tr>\n",
       "  </tbody>\n",
       "</table>\n",
       "</div>"
      ],
      "text/plain": [
       "                                         dtype\n",
       "created_at                 datetime64[ns, UTC]\n",
       "id                                       int64\n",
       "id_str                                   int64\n",
       "text                                    object\n",
       "display_text_range                      object\n",
       "source                                  object\n",
       "truncated                                 bool\n",
       "in_reply_to_status_id                  float64\n",
       "in_reply_to_status_id_str              float64\n",
       "in_reply_to_user_id                    float64\n",
       "in_reply_to_user_id_str                float64\n",
       "in_reply_to_screen_name                 object\n",
       "user                                    object\n",
       "geo                                     object\n",
       "coordinates                             object\n",
       "place                                   object\n",
       "contributors                           float64\n",
       "is_quote_status                           bool\n",
       "quote_count                              int64\n",
       "reply_count                              int64\n",
       "retweet_count                            int64\n",
       "favorite_count                           int64\n",
       "entities                                object\n",
       "favorited                                 bool\n",
       "retweeted                                 bool\n",
       "filter_level                            object\n",
       "lang                                    object\n",
       "timestamp_ms                    datetime64[ns]\n",
       "extended_tweet                          object\n",
       "possibly_sensitive                     float64\n",
       "quoted_status_id                       float64\n",
       "quoted_status_id_str                   float64\n",
       "quoted_status                           object\n",
       "quoted_status_permalink                 object\n",
       "extended_entities                       object\n",
       "withheld_in_countries                   object"
      ]
     },
     "execution_count": 3,
     "metadata": {},
     "output_type": "execute_result"
    }
   ],
   "source": [
    "features_type = new_york_tweets[new_york_tweets.columns].dtypes.to_frame().rename(columns={0:'dtype'})\n",
    "features_type"
   ]
  },
  {
   "cell_type": "markdown",
   "metadata": {},
   "source": [
    "Some of the features are objects, for example \"user\", let's explore and find out what kind of object those features are."
   ]
  },
  {
   "cell_type": "code",
   "execution_count": 4,
   "metadata": {
    "scrolled": false
   },
   "outputs": [
    {
     "data": {
      "text/html": [
       "<div>\n",
       "<style scoped>\n",
       "    .dataframe tbody tr th:only-of-type {\n",
       "        vertical-align: middle;\n",
       "    }\n",
       "\n",
       "    .dataframe tbody tr th {\n",
       "        vertical-align: top;\n",
       "    }\n",
       "\n",
       "    .dataframe thead th {\n",
       "        text-align: right;\n",
       "    }\n",
       "</style>\n",
       "<table border=\"1\" class=\"dataframe\">\n",
       "  <thead>\n",
       "    <tr style=\"text-align: right;\">\n",
       "      <th></th>\n",
       "      <th>dtype</th>\n",
       "      <th>type</th>\n",
       "    </tr>\n",
       "  </thead>\n",
       "  <tbody>\n",
       "    <tr>\n",
       "      <th>created_at</th>\n",
       "      <td>datetime64[ns, UTC]</td>\n",
       "      <td>Timestamp</td>\n",
       "    </tr>\n",
       "    <tr>\n",
       "      <th>id</th>\n",
       "      <td>int64</td>\n",
       "      <td>int64</td>\n",
       "    </tr>\n",
       "    <tr>\n",
       "      <th>id_str</th>\n",
       "      <td>int64</td>\n",
       "      <td>int64</td>\n",
       "    </tr>\n",
       "    <tr>\n",
       "      <th>text</th>\n",
       "      <td>object</td>\n",
       "      <td>str</td>\n",
       "    </tr>\n",
       "    <tr>\n",
       "      <th>display_text_range</th>\n",
       "      <td>object</td>\n",
       "      <td>list</td>\n",
       "    </tr>\n",
       "    <tr>\n",
       "      <th>source</th>\n",
       "      <td>object</td>\n",
       "      <td>str</td>\n",
       "    </tr>\n",
       "    <tr>\n",
       "      <th>truncated</th>\n",
       "      <td>bool</td>\n",
       "      <td>bool_</td>\n",
       "    </tr>\n",
       "    <tr>\n",
       "      <th>in_reply_to_status_id</th>\n",
       "      <td>float64</td>\n",
       "      <td>float64</td>\n",
       "    </tr>\n",
       "    <tr>\n",
       "      <th>in_reply_to_status_id_str</th>\n",
       "      <td>float64</td>\n",
       "      <td>float64</td>\n",
       "    </tr>\n",
       "    <tr>\n",
       "      <th>in_reply_to_user_id</th>\n",
       "      <td>float64</td>\n",
       "      <td>float64</td>\n",
       "    </tr>\n",
       "    <tr>\n",
       "      <th>in_reply_to_user_id_str</th>\n",
       "      <td>float64</td>\n",
       "      <td>float64</td>\n",
       "    </tr>\n",
       "    <tr>\n",
       "      <th>in_reply_to_screen_name</th>\n",
       "      <td>object</td>\n",
       "      <td>str</td>\n",
       "    </tr>\n",
       "    <tr>\n",
       "      <th>user</th>\n",
       "      <td>object</td>\n",
       "      <td>dict</td>\n",
       "    </tr>\n",
       "    <tr>\n",
       "      <th>geo</th>\n",
       "      <td>object</td>\n",
       "      <td>NoneType</td>\n",
       "    </tr>\n",
       "    <tr>\n",
       "      <th>coordinates</th>\n",
       "      <td>object</td>\n",
       "      <td>NoneType</td>\n",
       "    </tr>\n",
       "    <tr>\n",
       "      <th>place</th>\n",
       "      <td>object</td>\n",
       "      <td>dict</td>\n",
       "    </tr>\n",
       "    <tr>\n",
       "      <th>contributors</th>\n",
       "      <td>float64</td>\n",
       "      <td>float64</td>\n",
       "    </tr>\n",
       "    <tr>\n",
       "      <th>is_quote_status</th>\n",
       "      <td>bool</td>\n",
       "      <td>bool_</td>\n",
       "    </tr>\n",
       "    <tr>\n",
       "      <th>quote_count</th>\n",
       "      <td>int64</td>\n",
       "      <td>int64</td>\n",
       "    </tr>\n",
       "    <tr>\n",
       "      <th>reply_count</th>\n",
       "      <td>int64</td>\n",
       "      <td>int64</td>\n",
       "    </tr>\n",
       "    <tr>\n",
       "      <th>retweet_count</th>\n",
       "      <td>int64</td>\n",
       "      <td>int64</td>\n",
       "    </tr>\n",
       "    <tr>\n",
       "      <th>favorite_count</th>\n",
       "      <td>int64</td>\n",
       "      <td>int64</td>\n",
       "    </tr>\n",
       "    <tr>\n",
       "      <th>entities</th>\n",
       "      <td>object</td>\n",
       "      <td>dict</td>\n",
       "    </tr>\n",
       "    <tr>\n",
       "      <th>favorited</th>\n",
       "      <td>bool</td>\n",
       "      <td>bool_</td>\n",
       "    </tr>\n",
       "    <tr>\n",
       "      <th>retweeted</th>\n",
       "      <td>bool</td>\n",
       "      <td>bool_</td>\n",
       "    </tr>\n",
       "    <tr>\n",
       "      <th>filter_level</th>\n",
       "      <td>object</td>\n",
       "      <td>str</td>\n",
       "    </tr>\n",
       "    <tr>\n",
       "      <th>lang</th>\n",
       "      <td>object</td>\n",
       "      <td>str</td>\n",
       "    </tr>\n",
       "    <tr>\n",
       "      <th>timestamp_ms</th>\n",
       "      <td>datetime64[ns]</td>\n",
       "      <td>Timestamp</td>\n",
       "    </tr>\n",
       "    <tr>\n",
       "      <th>extended_tweet</th>\n",
       "      <td>object</td>\n",
       "      <td>float</td>\n",
       "    </tr>\n",
       "    <tr>\n",
       "      <th>possibly_sensitive</th>\n",
       "      <td>float64</td>\n",
       "      <td>float64</td>\n",
       "    </tr>\n",
       "    <tr>\n",
       "      <th>quoted_status_id</th>\n",
       "      <td>float64</td>\n",
       "      <td>float64</td>\n",
       "    </tr>\n",
       "    <tr>\n",
       "      <th>quoted_status_id_str</th>\n",
       "      <td>float64</td>\n",
       "      <td>float64</td>\n",
       "    </tr>\n",
       "    <tr>\n",
       "      <th>quoted_status</th>\n",
       "      <td>object</td>\n",
       "      <td>float</td>\n",
       "    </tr>\n",
       "    <tr>\n",
       "      <th>quoted_status_permalink</th>\n",
       "      <td>object</td>\n",
       "      <td>float</td>\n",
       "    </tr>\n",
       "    <tr>\n",
       "      <th>extended_entities</th>\n",
       "      <td>object</td>\n",
       "      <td>float</td>\n",
       "    </tr>\n",
       "    <tr>\n",
       "      <th>withheld_in_countries</th>\n",
       "      <td>object</td>\n",
       "      <td>float</td>\n",
       "    </tr>\n",
       "  </tbody>\n",
       "</table>\n",
       "</div>"
      ],
      "text/plain": [
       "                                         dtype       type\n",
       "created_at                 datetime64[ns, UTC]  Timestamp\n",
       "id                                       int64      int64\n",
       "id_str                                   int64      int64\n",
       "text                                    object        str\n",
       "display_text_range                      object       list\n",
       "source                                  object        str\n",
       "truncated                                 bool      bool_\n",
       "in_reply_to_status_id                  float64    float64\n",
       "in_reply_to_status_id_str              float64    float64\n",
       "in_reply_to_user_id                    float64    float64\n",
       "in_reply_to_user_id_str                float64    float64\n",
       "in_reply_to_screen_name                 object        str\n",
       "user                                    object       dict\n",
       "geo                                     object   NoneType\n",
       "coordinates                             object   NoneType\n",
       "place                                   object       dict\n",
       "contributors                           float64    float64\n",
       "is_quote_status                           bool      bool_\n",
       "quote_count                              int64      int64\n",
       "reply_count                              int64      int64\n",
       "retweet_count                            int64      int64\n",
       "favorite_count                           int64      int64\n",
       "entities                                object       dict\n",
       "favorited                                 bool      bool_\n",
       "retweeted                                 bool      bool_\n",
       "filter_level                            object        str\n",
       "lang                                    object        str\n",
       "timestamp_ms                    datetime64[ns]  Timestamp\n",
       "extended_tweet                          object      float\n",
       "possibly_sensitive                     float64    float64\n",
       "quoted_status_id                       float64    float64\n",
       "quoted_status_id_str                   float64    float64\n",
       "quoted_status                           object      float\n",
       "quoted_status_permalink                 object      float\n",
       "extended_entities                       object      float\n",
       "withheld_in_countries                   object      float"
      ]
     },
     "execution_count": 4,
     "metadata": {},
     "output_type": "execute_result"
    }
   ],
   "source": [
    "features_type['type'] = [type(new_york_tweets.loc[0][col]).__name__ for col in new_york_tweets.columns]\n",
    "features_type"
   ]
  },
  {
   "cell_type": "markdown",
   "metadata": {},
   "source": [
    "I used the new_york_tweets index O row to output the objects' data type, some of features object values of the row are equal to NaN outputting a NoneType data type, let's find out those objects' actual data type by using different row values not equal to NaN."
   ]
  },
  {
   "cell_type": "code",
   "execution_count": 5,
   "metadata": {
    "scrolled": true
   },
   "outputs": [
    {
     "data": {
      "text/html": [
       "<div>\n",
       "<style scoped>\n",
       "    .dataframe tbody tr th:only-of-type {\n",
       "        vertical-align: middle;\n",
       "    }\n",
       "\n",
       "    .dataframe tbody tr th {\n",
       "        vertical-align: top;\n",
       "    }\n",
       "\n",
       "    .dataframe thead th {\n",
       "        text-align: right;\n",
       "    }\n",
       "</style>\n",
       "<table border=\"1\" class=\"dataframe\">\n",
       "  <thead>\n",
       "    <tr style=\"text-align: right;\">\n",
       "      <th></th>\n",
       "      <th>dtype</th>\n",
       "      <th>type</th>\n",
       "    </tr>\n",
       "  </thead>\n",
       "  <tbody>\n",
       "    <tr>\n",
       "      <th>created_at</th>\n",
       "      <td>datetime64[ns, UTC]</td>\n",
       "      <td>Timestamp</td>\n",
       "    </tr>\n",
       "    <tr>\n",
       "      <th>id</th>\n",
       "      <td>int64</td>\n",
       "      <td>int64</td>\n",
       "    </tr>\n",
       "    <tr>\n",
       "      <th>id_str</th>\n",
       "      <td>int64</td>\n",
       "      <td>int64</td>\n",
       "    </tr>\n",
       "    <tr>\n",
       "      <th>text</th>\n",
       "      <td>object</td>\n",
       "      <td>str</td>\n",
       "    </tr>\n",
       "    <tr>\n",
       "      <th>display_text_range</th>\n",
       "      <td>object</td>\n",
       "      <td>list</td>\n",
       "    </tr>\n",
       "    <tr>\n",
       "      <th>source</th>\n",
       "      <td>object</td>\n",
       "      <td>str</td>\n",
       "    </tr>\n",
       "    <tr>\n",
       "      <th>truncated</th>\n",
       "      <td>bool</td>\n",
       "      <td>bool_</td>\n",
       "    </tr>\n",
       "    <tr>\n",
       "      <th>in_reply_to_status_id</th>\n",
       "      <td>float64</td>\n",
       "      <td>float64</td>\n",
       "    </tr>\n",
       "    <tr>\n",
       "      <th>in_reply_to_status_id_str</th>\n",
       "      <td>float64</td>\n",
       "      <td>float64</td>\n",
       "    </tr>\n",
       "    <tr>\n",
       "      <th>in_reply_to_user_id</th>\n",
       "      <td>float64</td>\n",
       "      <td>float64</td>\n",
       "    </tr>\n",
       "    <tr>\n",
       "      <th>in_reply_to_user_id_str</th>\n",
       "      <td>float64</td>\n",
       "      <td>float64</td>\n",
       "    </tr>\n",
       "    <tr>\n",
       "      <th>in_reply_to_screen_name</th>\n",
       "      <td>object</td>\n",
       "      <td>str</td>\n",
       "    </tr>\n",
       "    <tr>\n",
       "      <th>user</th>\n",
       "      <td>object</td>\n",
       "      <td>dict</td>\n",
       "    </tr>\n",
       "    <tr>\n",
       "      <th>geo</th>\n",
       "      <td>object</td>\n",
       "      <td>dict</td>\n",
       "    </tr>\n",
       "    <tr>\n",
       "      <th>coordinates</th>\n",
       "      <td>object</td>\n",
       "      <td>dict</td>\n",
       "    </tr>\n",
       "    <tr>\n",
       "      <th>place</th>\n",
       "      <td>object</td>\n",
       "      <td>dict</td>\n",
       "    </tr>\n",
       "    <tr>\n",
       "      <th>contributors</th>\n",
       "      <td>float64</td>\n",
       "      <td>float64</td>\n",
       "    </tr>\n",
       "    <tr>\n",
       "      <th>is_quote_status</th>\n",
       "      <td>bool</td>\n",
       "      <td>bool_</td>\n",
       "    </tr>\n",
       "    <tr>\n",
       "      <th>quote_count</th>\n",
       "      <td>int64</td>\n",
       "      <td>int64</td>\n",
       "    </tr>\n",
       "    <tr>\n",
       "      <th>reply_count</th>\n",
       "      <td>int64</td>\n",
       "      <td>int64</td>\n",
       "    </tr>\n",
       "    <tr>\n",
       "      <th>retweet_count</th>\n",
       "      <td>int64</td>\n",
       "      <td>int64</td>\n",
       "    </tr>\n",
       "    <tr>\n",
       "      <th>favorite_count</th>\n",
       "      <td>int64</td>\n",
       "      <td>int64</td>\n",
       "    </tr>\n",
       "    <tr>\n",
       "      <th>entities</th>\n",
       "      <td>object</td>\n",
       "      <td>dict</td>\n",
       "    </tr>\n",
       "    <tr>\n",
       "      <th>favorited</th>\n",
       "      <td>bool</td>\n",
       "      <td>bool_</td>\n",
       "    </tr>\n",
       "    <tr>\n",
       "      <th>retweeted</th>\n",
       "      <td>bool</td>\n",
       "      <td>bool_</td>\n",
       "    </tr>\n",
       "    <tr>\n",
       "      <th>filter_level</th>\n",
       "      <td>object</td>\n",
       "      <td>str</td>\n",
       "    </tr>\n",
       "    <tr>\n",
       "      <th>lang</th>\n",
       "      <td>object</td>\n",
       "      <td>str</td>\n",
       "    </tr>\n",
       "    <tr>\n",
       "      <th>timestamp_ms</th>\n",
       "      <td>datetime64[ns]</td>\n",
       "      <td>Timestamp</td>\n",
       "    </tr>\n",
       "    <tr>\n",
       "      <th>extended_tweet</th>\n",
       "      <td>object</td>\n",
       "      <td>float</td>\n",
       "    </tr>\n",
       "    <tr>\n",
       "      <th>possibly_sensitive</th>\n",
       "      <td>float64</td>\n",
       "      <td>float64</td>\n",
       "    </tr>\n",
       "    <tr>\n",
       "      <th>quoted_status_id</th>\n",
       "      <td>float64</td>\n",
       "      <td>float64</td>\n",
       "    </tr>\n",
       "    <tr>\n",
       "      <th>quoted_status_id_str</th>\n",
       "      <td>float64</td>\n",
       "      <td>float64</td>\n",
       "    </tr>\n",
       "    <tr>\n",
       "      <th>quoted_status</th>\n",
       "      <td>object</td>\n",
       "      <td>float</td>\n",
       "    </tr>\n",
       "    <tr>\n",
       "      <th>quoted_status_permalink</th>\n",
       "      <td>object</td>\n",
       "      <td>float</td>\n",
       "    </tr>\n",
       "    <tr>\n",
       "      <th>extended_entities</th>\n",
       "      <td>object</td>\n",
       "      <td>float</td>\n",
       "    </tr>\n",
       "    <tr>\n",
       "      <th>withheld_in_countries</th>\n",
       "      <td>object</td>\n",
       "      <td>float</td>\n",
       "    </tr>\n",
       "  </tbody>\n",
       "</table>\n",
       "</div>"
      ],
      "text/plain": [
       "                                         dtype       type\n",
       "created_at                 datetime64[ns, UTC]  Timestamp\n",
       "id                                       int64      int64\n",
       "id_str                                   int64      int64\n",
       "text                                    object        str\n",
       "display_text_range                      object       list\n",
       "source                                  object        str\n",
       "truncated                                 bool      bool_\n",
       "in_reply_to_status_id                  float64    float64\n",
       "in_reply_to_status_id_str              float64    float64\n",
       "in_reply_to_user_id                    float64    float64\n",
       "in_reply_to_user_id_str                float64    float64\n",
       "in_reply_to_screen_name                 object        str\n",
       "user                                    object       dict\n",
       "geo                                     object       dict\n",
       "coordinates                             object       dict\n",
       "place                                   object       dict\n",
       "contributors                           float64    float64\n",
       "is_quote_status                           bool      bool_\n",
       "quote_count                              int64      int64\n",
       "reply_count                              int64      int64\n",
       "retweet_count                            int64      int64\n",
       "favorite_count                           int64      int64\n",
       "entities                                object       dict\n",
       "favorited                                 bool      bool_\n",
       "retweeted                                 bool      bool_\n",
       "filter_level                            object        str\n",
       "lang                                    object        str\n",
       "timestamp_ms                    datetime64[ns]  Timestamp\n",
       "extended_tweet                          object      float\n",
       "possibly_sensitive                     float64    float64\n",
       "quoted_status_id                       float64    float64\n",
       "quoted_status_id_str                   float64    float64\n",
       "quoted_status                           object      float\n",
       "quoted_status_permalink                 object      float\n",
       "extended_entities                       object      float\n",
       "withheld_in_countries                   object      float"
      ]
     },
     "execution_count": 5,
     "metadata": {},
     "output_type": "execute_result"
    }
   ],
   "source": [
    "for feature in features_type.index:\n",
    "    if features_type.loc[feature]['type'] == 'NoneType': \n",
    "        for i in range(len(new_york_tweets)):\n",
    "            if new_york_tweets.loc[i][feature] != None:\n",
    "                features_type.loc[feature]['type'] = type(new_york_tweets.loc[i][feature]).__name__ \n",
    "                break \n",
    "features_type.to_csv('data/features_type.csv')\n",
    "features_type"
   ]
  },
  {
   "cell_type": "markdown",
   "metadata": {},
   "source": [
    "The `\"text\"` features has useful data to predict a tweet location."
   ]
  },
  {
   "cell_type": "code",
   "execution_count": 6,
   "metadata": {},
   "outputs": [
    {
     "name": "stdout",
     "output_type": "stream",
     "text": [
      "\n",
      "Text of 12th tweet: Be best #ThursdayThoughts\n"
     ]
    }
   ],
   "source": [
    "print(f'\\nText of 12th tweet: {new_york_tweets.loc[12][\"text\"]}')"
   ]
  },
  {
   "cell_type": "markdown",
   "metadata": {},
   "source": [
    "`new_york_tweets`, `london_tweets` and `paris_tweets` number of tweets:"
   ]
  },
  {
   "cell_type": "code",
   "execution_count": 7,
   "metadata": {
    "scrolled": true
   },
   "outputs": [
    {
     "name": "stdout",
     "output_type": "stream",
     "text": [
      "Number of tweets from New York: 4723\n",
      "Number of tweets from London: 5341\n",
      "Number of tweets from Paris: 2510\n"
     ]
    }
   ],
   "source": [
    "print(f'Number of tweets from New York: {len(new_york_tweets)}')\n",
    "print(f'Number of tweets from London: {len(london_tweets)}')\n",
    "print(f'Number of tweets from Paris: {len(paris_tweets)}')"
   ]
  },
  {
   "cell_type": "markdown",
   "metadata": {},
   "source": [
    "The `paris_tweets` DataFrame has roughly half the amount of tweets than the `new_york_tweets` and `london_tweets` DataFrames."
   ]
  },
  {
   "cell_type": "markdown",
   "metadata": {},
   "source": [
    "## <b>Naive Bayes Classifier</b>"
   ]
  },
  {
   "cell_type": "markdown",
   "metadata": {},
   "source": [
    "A [Naive Bayes classifier](https://en.wikipedia.org/wiki/Naive_Bayes_classifier) is a supervised machine learning algorithm that leverages [Bayes’ Theorem](https://mathworld.wolfram.com/BayesTheorem.html) to make predictions and classifications."
   ]
  },
  {
   "cell_type": "markdown",
   "metadata": {},
   "source": [
    "### + Defining data and labels"
   ]
  },
  {
   "cell_type": "markdown",
   "metadata": {},
   "source": [
    "To classify any tweet (or sentence) and predict whether that sentence came from New York, London, or Paris, using Naive Bayes Classifier Models,\n",
    "I isolated the `text` features data from each tweets by location DataFrame and combined them into to one data variable named `all_tweets_text`.\n",
    "\n",
    "I defined the labels associated with `paris_tweets`, `new_york_tweets` and `london_tweets` locations as follow:\n",
    "- `0` represents a New York tweet\n",
    "- `1`  represents a London tweet \n",
    "- `2` represents a Paris tweet \n",
    "I store the labels data into a variable named `labels`."
   ]
  },
  {
   "cell_type": "code",
   "execution_count": 8,
   "metadata": {},
   "outputs": [],
   "source": [
    "# Isolating the `text` features data from each DataFrame\n",
    "new_york_text = new_york_tweets[\"text\"].tolist()\n",
    "london_text = london_tweets[\"text\"].tolist()\n",
    "paris_text = paris_tweets[\"text\"].tolist()\n",
    "# Combined text data\n",
    "all_tweets_text = new_york_text + london_text + paris_text\n",
    "# Labels\n",
    "labels = [0] * len(new_york_text) + [1] * len(london_text) + [2] * len(paris_text)"
   ]
  },
  {
   "cell_type": "markdown",
   "metadata": {},
   "source": [
    "### + Creating training and test sets"
   ]
  },
  {
   "cell_type": "markdown",
   "metadata": {},
   "source": [
    "To split the data into training and test sets, I used the `\"train_test_split\"` function with the argument `\"random_state = 1\"`, which sets the random seed to 1, to ensure that results are reproducible."
   ]
  },
  {
   "cell_type": "code",
   "execution_count": 9,
   "metadata": {
    "scrolled": true
   },
   "outputs": [],
   "source": [
    "train_data, test_data, train_labels, test_labels = train_test_split(all_tweets_text, labels, test_size = 0.2, random_state = 1)"
   ]
  },
  {
   "cell_type": "code",
   "execution_count": 10,
   "metadata": {
    "scrolled": true
   },
   "outputs": [
    {
     "data": {
      "text/html": [
       "<style  type=\"text/css\" >\n",
       "    #T_6fe35712_68b8_11eb_9e44_a41f72fe9f51row0_col0 {\n",
       "            text-align:  center;\n",
       "        }    #T_6fe35712_68b8_11eb_9e44_a41f72fe9f51row1_col0 {\n",
       "            text-align:  center;\n",
       "        }    #T_6fe35712_68b8_11eb_9e44_a41f72fe9f51row2_col0 {\n",
       "            text-align:  center;\n",
       "        }    #T_6fe35712_68b8_11eb_9e44_a41f72fe9f51row3_col0 {\n",
       "            text-align:  center;\n",
       "        }    #T_6fe35712_68b8_11eb_9e44_a41f72fe9f51row4_col0 {\n",
       "            text-align:  center;\n",
       "        }    #T_6fe35712_68b8_11eb_9e44_a41f72fe9f51row5_col0 {\n",
       "            text-align:  center;\n",
       "        }    #T_6fe35712_68b8_11eb_9e44_a41f72fe9f51row6_col0 {\n",
       "            text-align:  center;\n",
       "        }    #T_6fe35712_68b8_11eb_9e44_a41f72fe9f51row7_col0 {\n",
       "            text-align:  center;\n",
       "        }    #T_6fe35712_68b8_11eb_9e44_a41f72fe9f51row8_col0 {\n",
       "            text-align:  center;\n",
       "        }    #T_6fe35712_68b8_11eb_9e44_a41f72fe9f51row9_col0 {\n",
       "            text-align:  center;\n",
       "        }</style><table id=\"T_6fe35712_68b8_11eb_9e44_a41f72fe9f51\" ><thead>    <tr>        <th class=\"col_heading level0 col0\" >test_labels</th>    </tr></thead><tbody>\n",
       "                <tr>\n",
       "                                <td id=\"T_6fe35712_68b8_11eb_9e44_a41f72fe9f51row0_col0\" class=\"data row0 col0\" >0</td>\n",
       "            </tr>\n",
       "            <tr>\n",
       "                                <td id=\"T_6fe35712_68b8_11eb_9e44_a41f72fe9f51row1_col0\" class=\"data row1 col0\" >0</td>\n",
       "            </tr>\n",
       "            <tr>\n",
       "                                <td id=\"T_6fe35712_68b8_11eb_9e44_a41f72fe9f51row2_col0\" class=\"data row2 col0\" >1</td>\n",
       "            </tr>\n",
       "            <tr>\n",
       "                                <td id=\"T_6fe35712_68b8_11eb_9e44_a41f72fe9f51row3_col0\" class=\"data row3 col0\" >0</td>\n",
       "            </tr>\n",
       "            <tr>\n",
       "                                <td id=\"T_6fe35712_68b8_11eb_9e44_a41f72fe9f51row4_col0\" class=\"data row4 col0\" >0</td>\n",
       "            </tr>\n",
       "            <tr>\n",
       "                                <td id=\"T_6fe35712_68b8_11eb_9e44_a41f72fe9f51row5_col0\" class=\"data row5 col0\" >2</td>\n",
       "            </tr>\n",
       "            <tr>\n",
       "                                <td id=\"T_6fe35712_68b8_11eb_9e44_a41f72fe9f51row6_col0\" class=\"data row6 col0\" >1</td>\n",
       "            </tr>\n",
       "            <tr>\n",
       "                                <td id=\"T_6fe35712_68b8_11eb_9e44_a41f72fe9f51row7_col0\" class=\"data row7 col0\" >1</td>\n",
       "            </tr>\n",
       "            <tr>\n",
       "                                <td id=\"T_6fe35712_68b8_11eb_9e44_a41f72fe9f51row8_col0\" class=\"data row8 col0\" >1</td>\n",
       "            </tr>\n",
       "            <tr>\n",
       "                                <td id=\"T_6fe35712_68b8_11eb_9e44_a41f72fe9f51row9_col0\" class=\"data row9 col0\" >0</td>\n",
       "            </tr>\n",
       "    </tbody></table>"
      ],
      "text/plain": [
       "<pandas.io.formats.style.Styler at 0x22c4a370>"
      ]
     },
     "execution_count": 10,
     "metadata": {},
     "output_type": "execute_result"
    }
   ],
   "source": [
    "# Labels Test Sample\n",
    "pd.DataFrame({'test_labels':test_labels}).head(10).style.hide_index().set_properties(**{'text-align': 'center'})"
   ]
  },
  {
   "cell_type": "code",
   "execution_count": 11,
   "metadata": {
    "scrolled": true
   },
   "outputs": [
    {
     "data": {
      "text/html": [
       "<style  type=\"text/css\" >\n",
       "    #T_6fe66415_68b8_11eb_b49c_a41f72fe9f51row0_col0 {\n",
       "            text-align:  center;\n",
       "        }    #T_6fe66415_68b8_11eb_b49c_a41f72fe9f51row1_col0 {\n",
       "            text-align:  center;\n",
       "        }    #T_6fe66415_68b8_11eb_b49c_a41f72fe9f51row2_col0 {\n",
       "            text-align:  center;\n",
       "        }    #T_6fe66415_68b8_11eb_b49c_a41f72fe9f51row3_col0 {\n",
       "            text-align:  center;\n",
       "        }    #T_6fe66415_68b8_11eb_b49c_a41f72fe9f51row4_col0 {\n",
       "            text-align:  center;\n",
       "        }    #T_6fe66415_68b8_11eb_b49c_a41f72fe9f51row5_col0 {\n",
       "            text-align:  center;\n",
       "        }    #T_6fe66415_68b8_11eb_b49c_a41f72fe9f51row6_col0 {\n",
       "            text-align:  center;\n",
       "        }    #T_6fe66415_68b8_11eb_b49c_a41f72fe9f51row7_col0 {\n",
       "            text-align:  center;\n",
       "        }    #T_6fe66415_68b8_11eb_b49c_a41f72fe9f51row8_col0 {\n",
       "            text-align:  center;\n",
       "        }    #T_6fe66415_68b8_11eb_b49c_a41f72fe9f51row9_col0 {\n",
       "            text-align:  center;\n",
       "        }</style><table id=\"T_6fe66415_68b8_11eb_b49c_a41f72fe9f51\" ><thead>    <tr>        <th class=\"col_heading level0 col0\" >test_data</th>    </tr></thead><tbody>\n",
       "                <tr>\n",
       "                                <td id=\"T_6fe66415_68b8_11eb_b49c_a41f72fe9f51row0_col0\" class=\"data row0 col0\" >@saritam They’ll be aight!</td>\n",
       "            </tr>\n",
       "            <tr>\n",
       "                                <td id=\"T_6fe66415_68b8_11eb_b49c_a41f72fe9f51row1_col0\" class=\"data row1 col0\" >¿Es porque me gusta la changua?😔</td>\n",
       "            </tr>\n",
       "            <tr>\n",
       "                                <td id=\"T_6fe66415_68b8_11eb_b49c_a41f72fe9f51row2_col0\" class=\"data row2 col0\" >@zonalmista @Jamie_FD</td>\n",
       "            </tr>\n",
       "            <tr>\n",
       "                                <td id=\"T_6fe66415_68b8_11eb_b49c_a41f72fe9f51row3_col0\" class=\"data row3 col0\" >Trade &amp; investment agreements often have a negative effect on the weakest parts of society, in particular women. Ho… https://t.co/Ve3JlBzNlZ</td>\n",
       "            </tr>\n",
       "            <tr>\n",
       "                                <td id=\"T_6fe66415_68b8_11eb_b49c_a41f72fe9f51row4_col0\" class=\"data row4 col0\" >@ELVIAJEAMADO 23:35. Si me llevan voy en el baño igual 😅</td>\n",
       "            </tr>\n",
       "            <tr>\n",
       "                                <td id=\"T_6fe66415_68b8_11eb_b49c_a41f72fe9f51row5_col0\" class=\"data row5 col0\" >@Tanziloic Loic le poste d'arriere droit et la defense vont pas poser des probleme durant le mois d'aout \n",
       "quid des… https://t.co/mOmFFJPzLq</td>\n",
       "            </tr>\n",
       "            <tr>\n",
       "                                <td id=\"T_6fe66415_68b8_11eb_b49c_a41f72fe9f51row6_col0\" class=\"data row6 col0\" >https://t.co/UTj5tiGkKP</td>\n",
       "            </tr>\n",
       "            <tr>\n",
       "                                <td id=\"T_6fe66415_68b8_11eb_b49c_a41f72fe9f51row7_col0\" class=\"data row7 col0\" >Did You learn something ..? @ London, United Kingdom https://t.co/mkMzM1vuJC</td>\n",
       "            </tr>\n",
       "            <tr>\n",
       "                                <td id=\"T_6fe66415_68b8_11eb_b49c_a41f72fe9f51row8_col0\" class=\"data row8 col0\" >@billybragg We know about the far right so I think it's redundant to explain that they pose a threat. When Labour p… https://t.co/UR9NPkBTFy</td>\n",
       "            </tr>\n",
       "            <tr>\n",
       "                                <td id=\"T_6fe66415_68b8_11eb_b49c_a41f72fe9f51row9_col0\" class=\"data row9 col0\" >Excited to reveal @CampaignLiveUS' 2018 Inclusive &amp; Creative Top 20 honorees. Check out which agencies and brands a… https://t.co/q2Jd2YYxtE</td>\n",
       "            </tr>\n",
       "    </tbody></table>"
      ],
      "text/plain": [
       "<pandas.io.formats.style.Styler at 0x1e325da8>"
      ]
     },
     "execution_count": 11,
     "metadata": {},
     "output_type": "execute_result"
    }
   ],
   "source": [
    "# Data Test Sample\n",
    "pd.DataFrame({'test_data':test_data}).head(10).style.hide_index().set_properties(**{'text-align': 'center'})"
   ]
  },
  {
   "cell_type": "markdown",
   "metadata": {},
   "source": [
    "### + Making the Count Vectors"
   ]
  },
  {
   "cell_type": "markdown",
   "metadata": {},
   "source": [
    "To use a Naive Bayes Classifier, the data lists of words needs to be transformed into [count vectors](https://towardsdatascience.com/natural-language-processing-count-vectorization-with-scikit-learn-e7804269bb5e).\n",
    "\n",
    "For example, the sentence `\"I love New York, New York\"` will transform into a list that contains:\n",
    "* Two `1`s because the words `\"I\"` and `\"love\"` each appear once.\n",
    "* Two `2`s because the words `\"New\"` and `\"York\"` each appear twice.\n",
    "* Many `0`s because every other word in the training set didn't appear at all."
   ]
  },
  {
   "cell_type": "code",
   "execution_count": 12,
   "metadata": {},
   "outputs": [
    {
     "name": "stdout",
     "output_type": "stream",
     "text": [
      "Train data 3rd tweet:\n",
      "saying bye is hard. Especially when youre saying bye to comfort.\n",
      "\n",
      "Count Vector:\n",
      "  (0, 5022)\t2\n",
      "  (0, 6371)\t1\n",
      "  (0, 9552)\t1\n",
      "  (0, 12314)\t1\n",
      "  (0, 13903)\t1\n",
      "  (0, 23994)\t2\n",
      "  (0, 27146)\t1\n",
      "  (0, 29397)\t1\n",
      "  (0, 30274)\t1\n"
     ]
    }
   ],
   "source": [
    "# Initializes the counter vector\n",
    "counter = CountVectorizer()\n",
    "# learns a vocabulary dictionary: raw text corpus → processed text → tokenized text → corpus vocabulary → text representation\n",
    "counter.fit(train_data)\n",
    "# Vector, transforms the learned vocabulary dictionary to a document-term matrix\n",
    "train_counts = counter.transform(train_data)\n",
    "test_counts = counter.transform(test_data)\n",
    "\n",
    "# Count Vector Sample \n",
    "print(f'Train data 3rd tweet:\\n{train_data[3]}\\n')\n",
    "print('Count Vector:')\n",
    "print(train_counts[3])"
   ]
  },
  {
   "cell_type": "markdown",
   "metadata": {},
   "source": [
    "### + Train and Test the Naive Bayes Classifier, Predictions"
   ]
  },
  {
   "cell_type": "markdown",
   "metadata": {},
   "source": [
    "I used the [MultinomialNB](https://scikit-learn.org/stable/modules/generated/sklearn.naive_bayes.MultinomialNB.html) class from sklearn python library to create my Naive Bayes Classifier model.\n",
    "Then I trained the model and predicted the tweets test data locations. "
   ]
  },
  {
   "cell_type": "code",
   "execution_count": 13,
   "metadata": {
    "scrolled": true
   },
   "outputs": [
    {
     "data": {
      "text/html": [
       "<style  type=\"text/css\" >\n",
       "    #T_7058d16d_68b8_11eb_b76f_a41f72fe9f51row0_col0 {\n",
       "            text-align:  center;\n",
       "        }    #T_7058d16d_68b8_11eb_b76f_a41f72fe9f51row1_col0 {\n",
       "            text-align:  center;\n",
       "        }    #T_7058d16d_68b8_11eb_b76f_a41f72fe9f51row2_col0 {\n",
       "            text-align:  center;\n",
       "        }    #T_7058d16d_68b8_11eb_b76f_a41f72fe9f51row3_col0 {\n",
       "            text-align:  center;\n",
       "        }    #T_7058d16d_68b8_11eb_b76f_a41f72fe9f51row4_col0 {\n",
       "            text-align:  center;\n",
       "        }    #T_7058d16d_68b8_11eb_b76f_a41f72fe9f51row5_col0 {\n",
       "            text-align:  center;\n",
       "        }    #T_7058d16d_68b8_11eb_b76f_a41f72fe9f51row6_col0 {\n",
       "            text-align:  center;\n",
       "        }    #T_7058d16d_68b8_11eb_b76f_a41f72fe9f51row7_col0 {\n",
       "            text-align:  center;\n",
       "        }    #T_7058d16d_68b8_11eb_b76f_a41f72fe9f51row8_col0 {\n",
       "            text-align:  center;\n",
       "        }    #T_7058d16d_68b8_11eb_b76f_a41f72fe9f51row9_col0 {\n",
       "            text-align:  center;\n",
       "        }</style><table id=\"T_7058d16d_68b8_11eb_b76f_a41f72fe9f51\" ><thead>    <tr>        <th class=\"col_heading level0 col0\" >Predictions</th>    </tr></thead><tbody>\n",
       "                <tr>\n",
       "                                <td id=\"T_7058d16d_68b8_11eb_b76f_a41f72fe9f51row0_col0\" class=\"data row0 col0\" >0</td>\n",
       "            </tr>\n",
       "            <tr>\n",
       "                                <td id=\"T_7058d16d_68b8_11eb_b76f_a41f72fe9f51row1_col0\" class=\"data row1 col0\" >2</td>\n",
       "            </tr>\n",
       "            <tr>\n",
       "                                <td id=\"T_7058d16d_68b8_11eb_b76f_a41f72fe9f51row2_col0\" class=\"data row2 col0\" >1</td>\n",
       "            </tr>\n",
       "            <tr>\n",
       "                                <td id=\"T_7058d16d_68b8_11eb_b76f_a41f72fe9f51row3_col0\" class=\"data row3 col0\" >1</td>\n",
       "            </tr>\n",
       "            <tr>\n",
       "                                <td id=\"T_7058d16d_68b8_11eb_b76f_a41f72fe9f51row4_col0\" class=\"data row4 col0\" >2</td>\n",
       "            </tr>\n",
       "            <tr>\n",
       "                                <td id=\"T_7058d16d_68b8_11eb_b76f_a41f72fe9f51row5_col0\" class=\"data row5 col0\" >2</td>\n",
       "            </tr>\n",
       "            <tr>\n",
       "                                <td id=\"T_7058d16d_68b8_11eb_b76f_a41f72fe9f51row6_col0\" class=\"data row6 col0\" >1</td>\n",
       "            </tr>\n",
       "            <tr>\n",
       "                                <td id=\"T_7058d16d_68b8_11eb_b76f_a41f72fe9f51row7_col0\" class=\"data row7 col0\" >1</td>\n",
       "            </tr>\n",
       "            <tr>\n",
       "                                <td id=\"T_7058d16d_68b8_11eb_b76f_a41f72fe9f51row8_col0\" class=\"data row8 col0\" >1</td>\n",
       "            </tr>\n",
       "            <tr>\n",
       "                                <td id=\"T_7058d16d_68b8_11eb_b76f_a41f72fe9f51row9_col0\" class=\"data row9 col0\" >0</td>\n",
       "            </tr>\n",
       "    </tbody></table>"
      ],
      "text/plain": [
       "<pandas.io.formats.style.Styler at 0x5bf34f0>"
      ]
     },
     "execution_count": 13,
     "metadata": {},
     "output_type": "execute_result"
    }
   ],
   "source": [
    "# Initializes Naive Bayes model\n",
    "classifier = MultinomialNB()\n",
    "# Trains model\n",
    "classifier.fit(train_counts, train_labels)\n",
    "# Predicts the tweets test data locations\n",
    "predictions = classifier.predict(test_counts)\n",
    "# Prediction Sample\n",
    "pd.DataFrame({'Predictions':predictions}).head(10).style.hide_index().set_properties(**{'text-align': 'center'})"
   ]
  },
  {
   "cell_type": "markdown",
   "metadata": {},
   "source": [
    "## <b>Evaluating The Model<b>"
   ]
  },
  {
   "cell_type": "markdown",
   "metadata": {},
   "source": [
    "To evaluate the models, I used the scaled test data sets to predict whether or not a tweet is a viral tweet, and compared the predicted results against the test labels sets by using the following evaluation metrics:\n",
    "\n",
    "* Accuracy\n",
    "* Precision\n",
    "* Recall\n",
    "* Confusion Matrix\n",
    "\n",
    "More info: [5 Classification Evaluation metrics](https://towardsdatascience.com/the-5-classification-evaluation-metrics-you-must-know-aa97784ff226)"
   ]
  },
  {
   "cell_type": "markdown",
   "metadata": {},
   "source": [
    "### + Accuracy:"
   ]
  },
  {
   "cell_type": "markdown",
   "metadata": {},
   "source": [
    "[Accuracy](https://developers.google.com/machine-learning/crash-course/classification/accuracy#:~:text=Accuracy%20is%20one%20metric%20for,predictions%20Total%20number%20of%20predictions) is the percentage of classifications that the algorithm got correct out of every classification it made."
   ]
  },
  {
   "cell_type": "code",
   "execution_count": 14,
   "metadata": {},
   "outputs": [
    {
     "data": {
      "text/html": [
       "<style  type=\"text/css\" >\n",
       "    #T_70675ef9_68b8_11eb_8c0a_a41f72fe9f51row0_col0 {\n",
       "            text-align:  right;\n",
       "        }</style><table id=\"T_70675ef9_68b8_11eb_8c0a_a41f72fe9f51\" ><thead>    <tr>        <th class=\"col_heading level0 col0\" >Accuracy</th>    </tr></thead><tbody>\n",
       "                <tr>\n",
       "                                <td id=\"T_70675ef9_68b8_11eb_8c0a_a41f72fe9f51row0_col0\" class=\"data row0 col0\" >0.677932</td>\n",
       "            </tr>\n",
       "    </tbody></table>"
      ],
      "text/plain": [
       "<pandas.io.formats.style.Styler at 0x1e335af0>"
      ]
     },
     "execution_count": 14,
     "metadata": {},
     "output_type": "execute_result"
    }
   ],
   "source": [
    "accuracy = accuracy_score(test_labels, predictions)\n",
    "# Saves and displays the accuracy score\n",
    "accuracy = pd.DataFrame({'Accuracy':[accuracy]})\n",
    "accuracy.to_csv('data/accuracy.csv')\n",
    "accuracy.style.hide_index().set_properties(**{'text-align': 'right'})"
   ]
  },
  {
   "cell_type": "markdown",
   "metadata": {},
   "source": [
    "The model accuracy score is acceptable."
   ]
  },
  {
   "cell_type": "markdown",
   "metadata": {},
   "source": [
    "### + Precision:"
   ]
  },
  {
   "cell_type": "markdown",
   "metadata": {},
   "source": [
    "[Precision](https://en.wikipedia.org/wiki/Precision_and_recall) measures the percentage of items the classifier found that were actually relevant."
   ]
  },
  {
   "cell_type": "code",
   "execution_count": 15,
   "metadata": {},
   "outputs": [
    {
     "data": {
      "text/html": [
       "<style  type=\"text/css\" >\n",
       "    #T_7077b163_68b8_11eb_892c_a41f72fe9f51row0_col1 {\n",
       "            text-align:  right;\n",
       "        }    #T_7077b163_68b8_11eb_892c_a41f72fe9f51row1_col1 {\n",
       "            text-align:  right;\n",
       "        }    #T_7077b163_68b8_11eb_892c_a41f72fe9f51row2_col1 {\n",
       "            text-align:  right;\n",
       "        }    #T_7077b163_68b8_11eb_892c_a41f72fe9f51row3_col1 {\n",
       "            text-align:  right;\n",
       "        }</style><table id=\"T_7077b163_68b8_11eb_892c_a41f72fe9f51\" ><thead>    <tr>        <th class=\"blank level0\" ></th>        <th class=\"col_heading level0 col0\" >Locations</th>        <th class=\"col_heading level0 col1\" >Precision Scores</th>    </tr></thead><tbody>\n",
       "                <tr>\n",
       "                        <th id=\"T_7077b163_68b8_11eb_892c_a41f72fe9f51level0_row0\" class=\"row_heading level0 row0\" >0</th>\n",
       "                        <td id=\"T_7077b163_68b8_11eb_892c_a41f72fe9f51row0_col0\" class=\"data row0 col0\" >New York</td>\n",
       "                        <td id=\"T_7077b163_68b8_11eb_892c_a41f72fe9f51row0_col1\" class=\"data row0 col1\" >0.691816</td>\n",
       "            </tr>\n",
       "            <tr>\n",
       "                        <th id=\"T_7077b163_68b8_11eb_892c_a41f72fe9f51level0_row1\" class=\"row_heading level0 row1\" >1</th>\n",
       "                        <td id=\"T_7077b163_68b8_11eb_892c_a41f72fe9f51row1_col0\" class=\"data row1 col0\" >London</td>\n",
       "                        <td id=\"T_7077b163_68b8_11eb_892c_a41f72fe9f51row1_col1\" class=\"data row1 col1\" >0.619083</td>\n",
       "            </tr>\n",
       "            <tr>\n",
       "                        <th id=\"T_7077b163_68b8_11eb_892c_a41f72fe9f51level0_row2\" class=\"row_heading level0 row2\" >2</th>\n",
       "                        <td id=\"T_7077b163_68b8_11eb_892c_a41f72fe9f51row2_col0\" class=\"data row2 col0\" >Paris</td>\n",
       "                        <td id=\"T_7077b163_68b8_11eb_892c_a41f72fe9f51row2_col1\" class=\"data row2 col1\" >0.845771</td>\n",
       "            </tr>\n",
       "            <tr>\n",
       "                        <th id=\"T_7077b163_68b8_11eb_892c_a41f72fe9f51level0_row3\" class=\"row_heading level0 row3\" >3</th>\n",
       "                        <td id=\"T_7077b163_68b8_11eb_892c_a41f72fe9f51row3_col0\" class=\"data row3 col0\" >Combined Locations</td>\n",
       "                        <td id=\"T_7077b163_68b8_11eb_892c_a41f72fe9f51row3_col1\" class=\"data row3 col1\" >0.690577</td>\n",
       "            </tr>\n",
       "    </tbody></table>"
      ],
      "text/plain": [
       "<pandas.io.formats.style.Styler at 0x1e3358e0>"
      ]
     },
     "execution_count": 15,
     "metadata": {},
     "output_type": "execute_result"
    }
   ],
   "source": [
    "# List of locations\n",
    "locations = ['New York', 'London', 'Paris', 'Combined Locations']\n",
    "# The argument \"average=None\" returns each class precision score\n",
    "precisions = precision_score(test_labels, predictions, average=None)\n",
    "# The argument \"average='weighted'\" returns the weighted averaged precision score of the three classes\n",
    "precision_avg = precision_score(test_labels, predictions, average='weighted')\n",
    "# Combined precision scores results\n",
    "precisions = np.append(precisions, [precision_avg], axis=0)\n",
    "precision_scores = pd.DataFrame({'Locations':locations, 'Precision Scores':precisions})\n",
    "# Saves precision scores results\n",
    "precision_scores.to_csv('data/precision_scores.csv')\n",
    "# Displays\n",
    "precision_scores.style.set_properties(subset=['Precision Scores'], **{'text-align': 'right'})"
   ]
  },
  {
   "cell_type": "markdown",
   "metadata": {},
   "source": [
    "The model precision scores are acceptable."
   ]
  },
  {
   "cell_type": "markdown",
   "metadata": {},
   "source": [
    "### + Recall:"
   ]
  },
  {
   "cell_type": "markdown",
   "metadata": {},
   "source": [
    "[Recall](https://developers.google.com/machine-learning/crash-course/classification/precision-and-recall) measures the percentage of the relevant items the classifier was able to successfully find. "
   ]
  },
  {
   "cell_type": "code",
   "execution_count": 16,
   "metadata": {},
   "outputs": [
    {
     "data": {
      "text/html": [
       "<style  type=\"text/css\" >\n",
       "    #T_708be401_68b8_11eb_bcda_a41f72fe9f51row0_col1 {\n",
       "            text-align:  right;\n",
       "        }    #T_708be401_68b8_11eb_bcda_a41f72fe9f51row1_col1 {\n",
       "            text-align:  right;\n",
       "        }    #T_708be401_68b8_11eb_bcda_a41f72fe9f51row2_col1 {\n",
       "            text-align:  right;\n",
       "        }    #T_708be401_68b8_11eb_bcda_a41f72fe9f51row3_col1 {\n",
       "            text-align:  right;\n",
       "        }</style><table id=\"T_708be401_68b8_11eb_bcda_a41f72fe9f51\" ><thead>    <tr>        <th class=\"blank level0\" ></th>        <th class=\"col_heading level0 col0\" >Locations</th>        <th class=\"col_heading level0 col1\" >Recall Scores</th>    </tr></thead><tbody>\n",
       "                <tr>\n",
       "                        <th id=\"T_708be401_68b8_11eb_bcda_a41f72fe9f51level0_row0\" class=\"row_heading level0 row0\" >0</th>\n",
       "                        <td id=\"T_708be401_68b8_11eb_bcda_a41f72fe9f51row0_col0\" class=\"data row0 col0\" >New York</td>\n",
       "                        <td id=\"T_708be401_68b8_11eb_bcda_a41f72fe9f51row0_col1\" class=\"data row0 col1\" >0.556012</td>\n",
       "            </tr>\n",
       "            <tr>\n",
       "                        <th id=\"T_708be401_68b8_11eb_bcda_a41f72fe9f51level0_row1\" class=\"row_heading level0 row1\" >1</th>\n",
       "                        <td id=\"T_708be401_68b8_11eb_bcda_a41f72fe9f51row1_col0\" class=\"data row1 col0\" >London</td>\n",
       "                        <td id=\"T_708be401_68b8_11eb_bcda_a41f72fe9f51row1_col1\" class=\"data row1 col1\" >0.776626</td>\n",
       "            </tr>\n",
       "            <tr>\n",
       "                        <th id=\"T_708be401_68b8_11eb_bcda_a41f72fe9f51level0_row2\" class=\"row_heading level0 row2\" >2</th>\n",
       "                        <td id=\"T_708be401_68b8_11eb_bcda_a41f72fe9f51row2_col0\" class=\"data row2 col0\" >Paris</td>\n",
       "                        <td id=\"T_708be401_68b8_11eb_bcda_a41f72fe9f51row2_col1\" class=\"data row2 col1\" >0.706861</td>\n",
       "            </tr>\n",
       "            <tr>\n",
       "                        <th id=\"T_708be401_68b8_11eb_bcda_a41f72fe9f51level0_row3\" class=\"row_heading level0 row3\" >3</th>\n",
       "                        <td id=\"T_708be401_68b8_11eb_bcda_a41f72fe9f51row3_col0\" class=\"data row3 col0\" >Combined Locations</td>\n",
       "                        <td id=\"T_708be401_68b8_11eb_bcda_a41f72fe9f51row3_col1\" class=\"data row3 col1\" >0.677932</td>\n",
       "            </tr>\n",
       "    </tbody></table>"
      ],
      "text/plain": [
       "<pandas.io.formats.style.Styler at 0x1e457220>"
      ]
     },
     "execution_count": 16,
     "metadata": {},
     "output_type": "execute_result"
    }
   ],
   "source": [
    "# The argument \"average=None\" returns each class recall score\n",
    "recalls = recall_score(test_labels, predictions, average=None)\n",
    "# The argument \"average='weighted'\" returns the weighted averaged recall score of the three classes\n",
    "recall_avg = recall_score(test_labels, predictions, average='weighted')\n",
    "# Combined recall scores results\n",
    "recalls = np.append(recalls, [recall_avg], axis=0)\n",
    "recall_scores = pd.DataFrame({'Locations':locations, 'Recall Scores':recalls})\n",
    "# Saves precision scores results\n",
    "recall_scores.to_csv('data/recall_scores.csv')\n",
    "\n",
    "recall_scores.style.set_properties(subset=['Recall Scores'], **{'text-align': 'right'})"
   ]
  },
  {
   "cell_type": "markdown",
   "metadata": {},
   "source": [
    "The New York recall score is a little low."
   ]
  },
  {
   "cell_type": "markdown",
   "metadata": {},
   "source": [
    "### + Confusion Matrix:"
   ]
  },
  {
   "cell_type": "markdown",
   "metadata": {},
   "source": [
    "The other way to evaluate a model is by looking at the [confusion matrix](https://towardsdatascience.com/understanding-confusion-matrix-a9ad42dcfd62). A confusion matrix is a table that describes how a classifier made its predictions. \n",
    "\n",
    "For example, if there were two labels, A and B, a confusion matrix might look like this:\n",
    "\n",
    "```\n",
    "9 1\n",
    "3 5\n",
    "```\n",
    "\n",
    "In this example, the first row shows how the classifier classified the true A's. It guessed that 9 of them were A's and 1 of them was a B. The second row shows how the classifier did on the true B's. It guessed that 3 of them were A's and 5 of them were B's.\n",
    "\n",
    "This project utilizes three classes &mdash; `0` for New York, `1` for London, and `2` for Paris."
   ]
  },
  {
   "cell_type": "code",
   "execution_count": 17,
   "metadata": {},
   "outputs": [
    {
     "data": {
      "text/html": [
       "<div>\n",
       "<style scoped>\n",
       "    .dataframe tbody tr th:only-of-type {\n",
       "        vertical-align: middle;\n",
       "    }\n",
       "\n",
       "    .dataframe tbody tr th {\n",
       "        vertical-align: top;\n",
       "    }\n",
       "\n",
       "    .dataframe thead th {\n",
       "        text-align: right;\n",
       "    }\n",
       "</style>\n",
       "<table border=\"1\" class=\"dataframe\">\n",
       "  <thead>\n",
       "    <tr style=\"text-align: right;\">\n",
       "      <th></th>\n",
       "      <th></th>\n",
       "    </tr>\n",
       "  </thead>\n",
       "  <tbody>\n",
       "    <tr>\n",
       "      <th>0</th>\n",
       "      <td>[541, 404, 28]</td>\n",
       "    </tr>\n",
       "    <tr>\n",
       "      <th>1</th>\n",
       "      <td>[203, 824, 34]</td>\n",
       "    </tr>\n",
       "    <tr>\n",
       "      <th>2</th>\n",
       "      <td>[38, 103, 340]</td>\n",
       "    </tr>\n",
       "  </tbody>\n",
       "</table>\n",
       "</div>"
      ],
      "text/plain": [
       "                 \n",
       "0  [541, 404, 28]\n",
       "1  [203, 824, 34]\n",
       "2  [38, 103, 340]"
      ]
     },
     "execution_count": 17,
     "metadata": {},
     "output_type": "execute_result"
    }
   ],
   "source": [
    "cf_matrix = confusion_matrix(test_labels, predictions)\n",
    "\n",
    "raw_cf_matrix = pd.DataFrame(columns=[''])\n",
    "for result in cf_matrix:\n",
    "    raw_cf_matrix = raw_cf_matrix.append({'':result}, ignore_index=True)\n",
    "\n",
    "# Saves raw matrix \n",
    "raw_cf_matrix.to_csv('data/raw_cf_matrix.csv')\n",
    "raw_cf_matrix"
   ]
  },
  {
   "cell_type": "markdown",
   "metadata": {},
   "source": [
    "Descriptive Confusion Matrix DataFrame:"
   ]
  },
  {
   "cell_type": "code",
   "execution_count": 18,
   "metadata": {},
   "outputs": [
    {
     "data": {
      "text/html": [
       "<style  type=\"text/css\" >\n",
       "    #T_70bab868_68b8_11eb_a0ba_a41f72fe9f51row0_col1 {\n",
       "            text-align:  Left;\n",
       "        }    #T_70bab868_68b8_11eb_a0ba_a41f72fe9f51row0_col3 {\n",
       "            text-align:  Left;\n",
       "        }    #T_70bab868_68b8_11eb_a0ba_a41f72fe9f51row0_col5 {\n",
       "            text-align:  Left;\n",
       "        }    #T_70bab868_68b8_11eb_a0ba_a41f72fe9f51row1_col1 {\n",
       "            text-align:  Left;\n",
       "        }    #T_70bab868_68b8_11eb_a0ba_a41f72fe9f51row1_col3 {\n",
       "            text-align:  Left;\n",
       "        }    #T_70bab868_68b8_11eb_a0ba_a41f72fe9f51row1_col5 {\n",
       "            text-align:  Left;\n",
       "        }    #T_70bab868_68b8_11eb_a0ba_a41f72fe9f51row2_col1 {\n",
       "            text-align:  Left;\n",
       "        }    #T_70bab868_68b8_11eb_a0ba_a41f72fe9f51row2_col3 {\n",
       "            text-align:  Left;\n",
       "        }    #T_70bab868_68b8_11eb_a0ba_a41f72fe9f51row2_col5 {\n",
       "            text-align:  Left;\n",
       "        }</style><table id=\"T_70bab868_68b8_11eb_a0ba_a41f72fe9f51\" ><thead>    <tr>        <th class=\"col_heading level0 col0\" >New York</th>        <th class=\"col_heading level0 col1\" > </th>        <th class=\"col_heading level0 col2\" >London</th>        <th class=\"col_heading level0 col3\" >  </th>        <th class=\"col_heading level0 col4\" >Paris</th>        <th class=\"col_heading level0 col5\" >   </th>    </tr></thead><tbody>\n",
       "                <tr>\n",
       "                                <td id=\"T_70bab868_68b8_11eb_a0ba_a41f72fe9f51row0_col0\" class=\"data row0 col0\" >True Positives:</td>\n",
       "                        <td id=\"T_70bab868_68b8_11eb_a0ba_a41f72fe9f51row0_col1\" class=\"data row0 col1\" >541</td>\n",
       "                        <td id=\"T_70bab868_68b8_11eb_a0ba_a41f72fe9f51row0_col2\" class=\"data row0 col2\" >True Positives:</td>\n",
       "                        <td id=\"T_70bab868_68b8_11eb_a0ba_a41f72fe9f51row0_col3\" class=\"data row0 col3\" >203</td>\n",
       "                        <td id=\"T_70bab868_68b8_11eb_a0ba_a41f72fe9f51row0_col4\" class=\"data row0 col4\" >True Positives:</td>\n",
       "                        <td id=\"T_70bab868_68b8_11eb_a0ba_a41f72fe9f51row0_col5\" class=\"data row0 col5\" >38</td>\n",
       "            </tr>\n",
       "            <tr>\n",
       "                                <td id=\"T_70bab868_68b8_11eb_a0ba_a41f72fe9f51row1_col0\" class=\"data row1 col0\" >False Positive - Was London:</td>\n",
       "                        <td id=\"T_70bab868_68b8_11eb_a0ba_a41f72fe9f51row1_col1\" class=\"data row1 col1\" >404</td>\n",
       "                        <td id=\"T_70bab868_68b8_11eb_a0ba_a41f72fe9f51row1_col2\" class=\"data row1 col2\" >False Positive - Was New York:</td>\n",
       "                        <td id=\"T_70bab868_68b8_11eb_a0ba_a41f72fe9f51row1_col3\" class=\"data row1 col3\" >824</td>\n",
       "                        <td id=\"T_70bab868_68b8_11eb_a0ba_a41f72fe9f51row1_col4\" class=\"data row1 col4\" >False Positive - Was New York:</td>\n",
       "                        <td id=\"T_70bab868_68b8_11eb_a0ba_a41f72fe9f51row1_col5\" class=\"data row1 col5\" >103</td>\n",
       "            </tr>\n",
       "            <tr>\n",
       "                                <td id=\"T_70bab868_68b8_11eb_a0ba_a41f72fe9f51row2_col0\" class=\"data row2 col0\" >False Positive - Was Paris:</td>\n",
       "                        <td id=\"T_70bab868_68b8_11eb_a0ba_a41f72fe9f51row2_col1\" class=\"data row2 col1\" >28</td>\n",
       "                        <td id=\"T_70bab868_68b8_11eb_a0ba_a41f72fe9f51row2_col2\" class=\"data row2 col2\" >False Positive - Was Paris:</td>\n",
       "                        <td id=\"T_70bab868_68b8_11eb_a0ba_a41f72fe9f51row2_col3\" class=\"data row2 col3\" >34</td>\n",
       "                        <td id=\"T_70bab868_68b8_11eb_a0ba_a41f72fe9f51row2_col4\" class=\"data row2 col4\" >False Positive - Was London:</td>\n",
       "                        <td id=\"T_70bab868_68b8_11eb_a0ba_a41f72fe9f51row2_col5\" class=\"data row2 col5\" >340</td>\n",
       "            </tr>\n",
       "    </tbody></table>"
      ],
      "text/plain": [
       "<pandas.io.formats.style.Styler at 0x1e4578b0>"
      ]
     },
     "execution_count": 18,
     "metadata": {},
     "output_type": "execute_result"
    }
   ],
   "source": [
    "new_york_matrix_labels = ['True Positives:', 'False Positive - Was London:', 'False Positive - Was Paris:']\n",
    "london_matrix_labels = ['True Positives:', 'False Positive - Was New York:', 'False Positive - Was Paris:']\n",
    "paris_matrix_labels = ['True Positives:', 'False Positive - Was New York:', 'False Positive - Was London:']\n",
    "\n",
    "desp_cf_matix = pd.DataFrame({'New York':new_york_matrix_labels, ' ':cf_matrix[0],  \n",
    "                            'London':london_matrix_labels, '  ':cf_matrix[1], \n",
    "                            'Paris':paris_matrix_labels, '   ':cf_matrix[2]})\n",
    "\n",
    "# Saves description matrix\n",
    "desp_cf_matix.to_csv('data/desp_cf_matix.csv')\n",
    "\n",
    "desp_cf_matix.style.hide_index().set_properties(subset=[' ', '  ', '   '], **{'text-align': 'Left'})"
   ]
  },
  {
   "cell_type": "markdown",
   "metadata": {},
   "source": [
    "The classifier predicts tweets that were actually from New York as either New York tweets or London tweets, but almost never Paris tweets. Similarly, the classifier rarely misclassifies the tweets that were actually from Paris. Tweets coming from two English speaking countries are harder to distinguish than tweets in different languages."
   ]
  },
  {
   "cell_type": "markdown",
   "metadata": {},
   "source": [
    "## <b>Test Your Own Tweet<b>"
   ]
  },
  {
   "cell_type": "code",
   "execution_count": 19,
   "metadata": {},
   "outputs": [
    {
     "name": "stdout",
     "output_type": "stream",
     "text": [
      "\n",
      "Enter your tweet:\n",
      "I love New York, New York\n",
      "\n",
      "Base on your tweet, you are probably from: New York\n"
     ]
    }
   ],
   "source": [
    "tweet = input(f'\\nEnter your tweet:\\n')\n",
    "# Vectorizes the tweet\n",
    "tweet_counts = counter.transform([tweet])\n",
    "# Predicts\n",
    "location = classifier.predict(tweet_counts)\n",
    "\n",
    "if location == 0:\n",
    "    print(f'\\nBase on your tweet, you are probably from: {locations[0]}')\n",
    "elif location == 1:\n",
    "     print(f'\\nBase on your tweet, you are probably from: {locations[1]}')\n",
    "else:\n",
    "     print(f'\\nBase on your tweet, you are probably from: {locations[2]}')"
   ]
  }
 ],
 "metadata": {
  "kernelspec": {
   "display_name": "Python 3",
   "language": "python",
   "name": "python3"
  },
  "language_info": {
   "codemirror_mode": {
    "name": "ipython",
    "version": 3
   },
   "file_extension": ".py",
   "mimetype": "text/x-python",
   "name": "python",
   "nbconvert_exporter": "python",
   "pygments_lexer": "ipython3",
   "version": "3.8.2"
  }
 },
 "nbformat": 4,
 "nbformat_minor": 2
}
